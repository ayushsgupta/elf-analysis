{
 "cells": [
  {
   "cell_type": "code",
   "execution_count": 1,
   "metadata": {},
   "outputs": [],
   "source": [
    "import os\n",
    "from pathlib import Path\n",
    "import re\n",
    "import subprocess\n",
    "from math import log10, floor\n",
    "import numpy as np\n",
    "import scipy as sp\n",
    "from matplotlib import pyplot as plt\n",
    "import plotly.graph_objects as go\n",
    "from copy import deepcopy\n",
    "import pandas as pd\n",
    "import itertools\n",
    "from pptx import Presentation\n",
    "from pptx.util import Inches\n",
    "\n",
    "from pymatgen.ext.matproj import MPRester, MPRestError\n",
    "from monty.serialization import loadfn, dumpfn\n",
    "from pymatgen import Structure, Composition\n",
    "from pymatgen.analysis.reaction_calculator import ComputedEntry, ComputedReaction\n",
    "from pymatgen.analysis.local_env import CrystalNN\n",
    "from pymatgen.analysis.defects.utils import ChargeDensityAnalyzer\n",
    "from pymatgen.util.plotting import pretty_plot, periodic_table_heatmap\n",
    "from pymatgen.command_line.bader_caller import BaderAnalysis\n",
    "from pymatgen.core import periodic_table\n",
    "from pymatgen.core.sites import Site, PeriodicSite\n",
    "from pymatgen.core.bonds import CovalentBond, bond_lengths\n",
    "from pymatgen.io.vasp.outputs import Elfcar, VolumetricData, Chgcar\n",
    "\n",
    "from scipy.stats import linregress, skew\n",
    "from scipy.interpolate import RegularGridInterpolator\n",
    "from sklearn.metrics import max_error, mean_absolute_error, mean_squared_error"
   ]
  },
  {
   "cell_type": "code",
   "execution_count": 2,
   "metadata": {},
   "outputs": [],
   "source": [
    "PROJECT = 'SCAN project'\n",
    "\n",
    "workdir = Path(re.sub(\"(?<={})[\\w\\W]*\".format(PROJECT), \"\", str(Path.cwd())))\n",
    "os.chdir(workdir)\n",
    "\n",
    "data_dir = workdir / 'SCAN_elfcar_v1'\n",
    "output_dir = workdir / 'vasp_files'"
   ]
  },
  {
   "cell_type": "code",
   "execution_count": 3,
   "metadata": {},
   "outputs": [
    {
     "name": "stdout",
     "output_type": "stream",
     "text": [
      "/mnt/c/Users/Ayush/Desktop/elf-analysis\n",
      "/mnt/c/Users/Ayush/Desktop/elf-analysis/SCAN_elfcar_v1\n",
      "/mnt/c/Users/Ayush/Desktop/elf-analysis/vasp_files\n"
     ]
    }
   ],
   "source": [
    "print(workdir)\n",
    "print(data_dir)\n",
    "print(output_dir)"
   ]
  },
  {
   "cell_type": "code",
   "execution_count": 26,
   "metadata": {},
   "outputs": [],
   "source": [
    "compounds = []"
   ]
  },
  {
   "cell_type": "code",
   "execution_count": 29,
   "metadata": {},
   "outputs": [],
   "source": [
    "def reorganize_files(): \n",
    "    print('Reorganizing for:')\n",
    "    count, empty = 0, 0\n",
    "    # loop through the directories containing the calcs\n",
    "    block_dir = data_dir\n",
    "    \n",
    "    for d1 in block_dir.iterdir():\n",
    "        if '.DS_Store' in str(d1):\n",
    "            empty += 1\n",
    "            continue\n",
    "        \n",
    "        # loop through the \"launcher\" dirs in each \"block\"\n",
    "        for d2 in d1.iterdir():\n",
    "            count+=1\n",
    "            \n",
    "            if '.DS_Store' in str(d2):\n",
    "                empty += 1\n",
    "                continue\n",
    "                \n",
    "            def file_helper(poscar_path, chgcar_path, aeccar0_path, aeccar2_path):\n",
    "                formula = Structure.from_file(poscar_path).composition.reduced_formula\n",
    "                compounds.append(formula)\n",
    "                print('---------------------------------------------------------------')\n",
    "                print(formula)\n",
    "                \n",
    "                if not os.path.isdir('vasp_files/by_compound/{}/'.format(formula)):\n",
    "                    subprocess.run(['mkdir', 'vasp_files/by_compound/{}/'.format(formula)])\n",
    "                    print('\\tFolder for', formula, 'successfully made!')\n",
    "                else:\n",
    "                    print('\\tFolder for', formula, 'already exists!')\n",
    "                    \n",
    "                target_dir = output_dir / 'by_compound' / formula\n",
    "                \n",
    "                if not os.path.isfile('vasp_files/by_compound/{}/CHGCAR.vasp'.format(formula)):           \n",
    "                    chgcar = Chgcar.from_file(chgcar_path)\n",
    "    #                 aeccar0 = Chgcar.from_file(aeccar0_path)\n",
    "    #                 aeccar2 = Chgcar.from_file(aeccar2_path)\n",
    "\n",
    "                    chgcar.write_file(Path(target_dir, 'CHGCAR.vasp'))\n",
    "                    print('\\tCHGCAR written')\n",
    "    #                 aeccar0.write_file(Path(target_dir, 'AECCAR0.vasp'))\n",
    "    #                 print('\\tAECCAR0 written')\n",
    "    #                 aeccar2.write_file(Path(target_dir, 'AECCAR2.vasp'))\n",
    "    #                 print('\\tAECCAR0 written')   \n",
    "                else:\n",
    "                    print('\\tCHGCAR already exists')\n",
    "                    \n",
    "                \n",
    "            try:\n",
    "                poscar_path = d2 / 'POSCAR.relax2.gz'\n",
    "                chgcar_path = d2 / 'CHGCAR.relax2.gz'\n",
    "                aeccar0_path = d2 / 'AECCAR0.relax2.gz'\n",
    "                aeccar2_path = d2 / 'AECCAR2.relax2.gz'    \n",
    "                file_helper(poscar_path, chgcar_path, aeccar0_path, aeccar2_path)\n",
    "            except FileNotFoundError as e:\n",
    "                poscar_path = d2 / 'POSCAR.relax3.gz'\n",
    "                chgcar_path = d2 / 'CHGCAR.relax3.gz'\n",
    "                aeccar0_path = d2 / 'AECCAR0.relax3.gz'\n",
    "                aeccar2_path = d2 / 'AECCAR2.relax3.gz'\n",
    "                file_helper(poscar_path, chgcar_path, aeccar0_path, aeccar2_path)\n",
    "            except TypeError as e:\n",
    "                print('AECCAR, you naughty boy!')\n",
    "            except Exception as exc:\n",
    "                print({exc})\n",
    "                continue\n",
    "        \n",
    "    print('---------------------------------------------------------------')    \n",
    "    print('Done! Traversed {0} directories, of which {1} were empty'.format(count, empty))"
   ]
  },
  {
   "cell_type": "code",
   "execution_count": 28,
   "metadata": {
    "scrolled": true
   },
   "outputs": [
    {
     "name": "stdout",
     "output_type": "stream",
     "text": [
      "Reorganizing for:\n",
      "---------------------------------------------------------------\n",
      "TiC\n",
      "\tFolder for TiC already exists!\n",
      "\tCHGCAR written\n",
      "---------------------------------------------------------------\n",
      "IrO2\n",
      "\tFolder for IrO2 already exists!\n",
      "\tCHGCAR written\n",
      "---------------------------------------------------------------\n",
      "TaN\n",
      "\tFolder for TaN already exists!\n",
      "\tCHGCAR written\n",
      "---------------------------------------------------------------\n",
      "TiO2\n",
      "\tFolder for TiO2 already exists!\n",
      "\tCHGCAR written\n",
      "---------------------------------------------------------------\n",
      "MgSO4\n",
      "\tFolder for MgSO4 already exists!\n",
      "\tCHGCAR written\n",
      "---------------------------------------------------------------\n",
      "MnBr2\n",
      "\tFolder for MnBr2 already exists!\n",
      "\tCHGCAR written\n",
      "---------------------------------------------------------------\n",
      "Mn3O4\n",
      "\tFolder for Mn3O4 already exists!\n",
      "\tCHGCAR written\n",
      "---------------------------------------------------------------\n",
      "Pt5Se4\n",
      "\tFolder for Pt5Se4 already exists!\n",
      "\tCHGCAR written\n",
      "---------------------------------------------------------------\n",
      "K2Si4O9\n",
      "\tFolder for K2Si4O9 already exists!\n",
      "\tCHGCAR written\n",
      "---------------------------------------------------------------\n",
      "Al2S3\n",
      "\tFolder for Al2S3 already exists!\n",
      "\tCHGCAR written\n",
      "---------------------------------------------------------------\n",
      "Fe2O3\n",
      "\tFolder for Fe2O3 successfully made!\n",
      "\tCHGCAR written\n",
      "---------------------------------------------------------------\n",
      "Eu2O3\n",
      "\tFolder for Eu2O3 successfully made!\n",
      "\tCHGCAR written\n",
      "---------------------------------------------------------------\n",
      "Done! Traversed 16 directories, of which 5 were empty\n",
      "['TiC', 'IrO2', 'TaN', 'TiO2', 'MgSO4', 'MnBr2', 'Mn3O4', 'Pt5Se4', 'K2Si4O9', 'Al2S3', 'Fe2O3', 'Eu2O3']\n"
     ]
    }
   ],
   "source": [
    "#reorganize_files()\n",
    "print(compounds)"
   ]
  },
  {
   "cell_type": "code",
   "execution_count": 31,
   "metadata": {},
   "outputs": [],
   "source": [
    "compounds = ['TiC', 'IrO2', 'TaN', 'TiO2', 'MnBr2', 'Mn3O4', 'Pt5Se4', 'Al2S3', 'Fe2O3']"
   ]
  },
  {
   "cell_type": "code",
   "execution_count": 44,
   "metadata": {},
   "outputs": [],
   "source": [
    "def run_bader():\n",
    "    target_dir = output_dir / 'by_compound'\n",
    "    for f in compounds:\n",
    "        working_dir = target_dir / f\n",
    "        os.chdir(working_dir)\n",
    "        if not os.path.isfile('Bvol0001.dat'):\n",
    "            subprocess.run(['bader', '-p', 'all_bader', 'CHGCAR.vasp'])\n",
    "            print('Bader complete', f)\n",
    "        else:\n",
    "            print('Bader already ran', f)"
   ]
  },
  {
   "cell_type": "code",
   "execution_count": 42,
   "metadata": {},
   "outputs": [
    {
     "name": "stdout",
     "output_type": "stream",
     "text": [
      "Bader complete TiC\n",
      "Bader complete IrO2\n",
      "Bader complete TaN\n",
      "Bader complete TiO2\n",
      "Bader complete MnBr2\n",
      "Bader complete Mn3O4\n",
      "Bader complete Pt5Se4\n",
      "Bader complete Al2S3\n",
      "Bader complete Fe2O3\n"
     ]
    }
   ],
   "source": [
    "run_bader()"
   ]
  },
  {
   "cell_type": "code",
   "execution_count": 45,
   "metadata": {},
   "outputs": [
    {
     "name": "stdout",
     "output_type": "stream",
     "text": [
      "Bader already ran TiC\n",
      "Bader already ran IrO2\n",
      "Bader already ran TaN\n",
      "Bader already ran TiO2\n",
      "Bader already ran MnBr2\n",
      "Bader already ran Mn3O4\n",
      "Bader already ran Pt5Se4\n",
      "Bader already ran Al2S3\n",
      "Bader already ran Fe2O3\n"
     ]
    }
   ],
   "source": [
    "run_bader()"
   ]
  },
  {
   "cell_type": "code",
   "execution_count": 94,
   "metadata": {},
   "outputs": [],
   "source": [
    "def retrieve_bader_results(return_dict={}):\n",
    "    target_dir = output_dir / 'by_compound'\n",
    "    for f in compounds:\n",
    "        if not return_dict.get(f, None):\n",
    "            chgcars = []\n",
    "            working_dir = target_dir / f\n",
    "            count = 0\n",
    "            for entry in working_dir.iterdir():\n",
    "                if re.search(r'Bvol', str(entry)):\n",
    "                    chgcars.append(Chgcar.from_file(entry))\n",
    "                    count += 1\n",
    "            return_dict[f] = chgcars\n",
    "            print(f, 'done:', count, 'files')\n",
    "        else:\n",
    "            print(f, 'already done')"
   ]
  },
  {
   "cell_type": "code",
   "execution_count": 95,
   "metadata": {},
   "outputs": [],
   "source": [
    "chgcars_dict = {}"
   ]
  },
  {
   "cell_type": "code",
   "execution_count": 96,
   "metadata": {},
   "outputs": [
    {
     "name": "stdout",
     "output_type": "stream",
     "text": [
      "TiC done: 55 files\n",
      "IrO2 done: 6 files\n",
      "TaN done: 13 files\n",
      "TiO2 done: 6 files\n",
      "MnBr2 done: 27 files\n",
      "Mn3O4 done: 14 files\n",
      "Pt5Se4 done: 42 files\n",
      "Al2S3 done: 168 files\n",
      "Fe2O3 done: 40 files\n"
     ]
    }
   ],
   "source": [
    "retrieve_bader_results(chgcars_dict)"
   ]
  },
  {
   "cell_type": "code",
   "execution_count": 98,
   "metadata": {},
   "outputs": [
    {
     "name": "stdout",
     "output_type": "stream",
     "text": [
      "TiC already done\n",
      "IrO2 already done\n",
      "TaN already done\n",
      "TiO2 already done\n",
      "MnBr2 already done\n",
      "Mn3O4 already done\n",
      "Pt5Se4 already done\n",
      "Al2S3 already done\n",
      "Fe2O3 already done\n"
     ]
    }
   ],
   "source": [
    "retrieve_bader_results(chgcars_dict)"
   ]
  },
  {
   "cell_type": "code",
   "execution_count": 112,
   "metadata": {},
   "outputs": [],
   "source": [
    "os.chdir(workdir)\n",
    "chgcars_dict2 = {}\n",
    "for f in chgcars_dict.keys():\n",
    "    chgcars_dict2[f] = [chgcar.as_dict() for chgcar in chgcars_dict[f]]"
   ]
  },
  {
   "cell_type": "code",
   "execution_count": null,
   "metadata": {},
   "outputs": [],
   "source": [
    "dumpfn(chgcars_dict2, 'lab_data/bader_chgcars.json')"
   ]
  },
  {
   "cell_type": "code",
   "execution_count": 105,
   "metadata": {},
   "outputs": [],
   "source": [
    "def filter_zeros(chgcars):\n",
    "    filtered = {}\n",
    "    for f in chgcars.keys():\n",
    "        lst, lst2 = chgcars[f], []\n",
    "        for chg in lst:\n",
    "            data = chg.data['total'].flatten()\n",
    "            data = data[data != 0.0]\n",
    "            lst2.append(data)\n",
    "        filtered[f] = lst2\n",
    "    return filtered"
   ]
  },
  {
   "cell_type": "code",
   "execution_count": 106,
   "metadata": {},
   "outputs": [],
   "source": [
    "filtered_chgcars = filter_zeros(chgcars_dict)"
   ]
  },
  {
   "cell_type": "code",
   "execution_count": null,
   "metadata": {},
   "outputs": [],
   "source": []
  },
  {
   "cell_type": "code",
   "execution_count": null,
   "metadata": {},
   "outputs": [],
   "source": []
  }
 ],
 "metadata": {
  "kernelspec": {
   "display_name": "Python (conda: scan)",
   "language": "python",
   "name": "scan"
  },
  "language_info": {
   "codemirror_mode": {
    "name": "ipython",
    "version": 3
   },
   "file_extension": ".py",
   "mimetype": "text/x-python",
   "name": "python",
   "nbconvert_exporter": "python",
   "pygments_lexer": "ipython3",
   "version": "3.8.2"
  }
 },
 "nbformat": 4,
 "nbformat_minor": 4
}
