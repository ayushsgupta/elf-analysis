{
 "cells": [
  {
   "cell_type": "markdown",
   "metadata": {},
   "source": [
    "## ELFCAR / iso-orbital indicator ($\\alpha$) analysis"
   ]
  },
  {
   "cell_type": "markdown",
   "metadata": {},
   "source": [
    "Calculate the alpha value from the ELFCAR, and write to a format that can be read by VESTA"
   ]
  },
  {
   "cell_type": "markdown",
   "metadata": {},
   "source": [
    "---\n",
    "## Header"
   ]
  },
  {
   "cell_type": "markdown",
   "metadata": {},
   "source": [
    "#### Global variables"
   ]
  },
  {
   "cell_type": "code",
   "execution_count": 1,
   "metadata": {},
   "outputs": [],
   "source": [
    "PROJECT = 'SCAN project'"
   ]
  },
  {
   "cell_type": "markdown",
   "metadata": {},
   "source": [
    "#### Imports"
   ]
  },
  {
   "cell_type": "code",
   "execution_count": 2,
   "metadata": {},
   "outputs": [],
   "source": [
    "import os\n",
    "from pathlib import Path\n",
    "import re\n",
    "import numpy as np\n",
    "#import xlrd\n",
    "from matplotlib import pyplot as plt\n",
    "import plotly.graph_objects as go"
   ]
  },
  {
   "cell_type": "code",
   "execution_count": 43,
   "metadata": {},
   "outputs": [],
   "source": [
    "from pymatgen.ext.matproj import MPRester, MPRestError\n",
    "from monty.serialization import loadfn, dumpfn\n",
    "from pymatgen import Structure, Composition\n",
    "from pymatgen.analysis.reaction_calculator import ComputedEntry, ComputedReaction\n",
    "from pymatgen.util.plotting import pretty_plot, periodic_table_heatmap\n",
    "from pymatgen.core import periodic_table\n",
    "from pymatgen.io.vasp.outputs import Elfcar, Chgcar, Poscar, VolumetricData\n",
    "\n",
    "from scipy.stats import linregress\n",
    "from scipy.interpolate import RegularGridInterpolator\n",
    "#from adjustText import adjust_text\n",
    "from sklearn.metrics import max_error, mean_absolute_error, mean_squared_error"
   ]
  },
  {
   "cell_type": "markdown",
   "metadata": {},
   "source": [
    "#### Settings and utility functions"
   ]
  },
  {
   "cell_type": "code",
   "execution_count": 4,
   "metadata": {},
   "outputs": [],
   "source": [
    "%load_ext autoreload\n",
    "%autoreload 2"
   ]
  },
  {
   "cell_type": "markdown",
   "metadata": {},
   "source": [
    "#### Set Working Directory"
   ]
  },
  {
   "cell_type": "code",
   "execution_count": 5,
   "metadata": {},
   "outputs": [],
   "source": [
    "workdir = Path(re.sub(\"(?<={})[\\w\\W]*\".format(PROJECT), \"\", str(Path.cwd())))\n",
    "os.chdir(workdir)\n",
    "\n",
    "data_dir = workdir / 'SCAN_elfcar_v1'\n",
    "#pipeline_dir = workdir / 'analysis' / 'pipeline'\n",
    "output_dir = workdir / 'vasp_files'"
   ]
  },
  {
   "cell_type": "code",
   "execution_count": 6,
   "metadata": {},
   "outputs": [
    {
     "name": "stdout",
     "output_type": "stream",
     "text": [
      "/mnt/c/Users/Ayush/Desktop/elf-analysis\n",
      "/mnt/c/Users/Ayush/Desktop/elf-analysis/SCAN_elfcar_v1\n",
      "/mnt/c/Users/Ayush/Desktop/elf-analysis/vasp_files\n"
     ]
    }
   ],
   "source": [
    "print(workdir)\n",
    "print(data_dir)\n",
    "#print(pipeline_dir)\n",
    "print(output_dir)"
   ]
  },
  {
   "cell_type": "markdown",
   "metadata": {},
   "source": [
    "---\n",
    "## Main Code"
   ]
  },
  {
   "cell_type": "markdown",
   "metadata": {},
   "source": [
    "### Create a simple dict containing formula: pymatgen ELFCAR object and write files that VESTA can read"
   ]
  },
  {
   "cell_type": "code",
   "execution_count": 28,
   "metadata": {},
   "outputs": [
    {
     "name": "stdout",
     "output_type": "stream",
     "text": [
      "Destination: /mnt/c/Users/Ayush/Desktop/elf-analysis/vasp_files\n",
      "Compounds:\n",
      "TiC\n",
      "IrO2\n",
      "TaN\n",
      "TiO2\n",
      "MgSO4\n",
      "MnBr2\n",
      "Mn3O4\n",
      "Pt5Se4\n",
      "K2Si4O9\n",
      "Al2S3\n",
      "Fe2O3\n",
      "Eu2O3\n",
      "Traversed 16 directories\n"
     ]
    }
   ],
   "source": [
    "def make_elfcar_dict(): \n",
    "    elfcar_dict = {}\n",
    "    #target_dir = output_dir / 'iso-orbital-alpha'\n",
    "    elf_target_dir = output_dir / 'elf'\n",
    "    print('Destination:', output_dir)\n",
    "    print('Compounds:')\n",
    "    count = 0\n",
    "    # loop through the directories containing the calcs\n",
    "    block_dir = data_dir\n",
    "    for d1 in block_dir.iterdir():\n",
    "        # loop through the \"launcher\" dirs in each \"block\"\n",
    "        if '.DS_Store' in str(d1):\n",
    "            continue\n",
    "        for d2 in d1.iterdir():\n",
    "            count+=1\n",
    "            if '.DS_Store' in str(d2):\n",
    "                continue\n",
    "                \n",
    "            poscar = d2 / 'POSCAR.relax2.gz'\n",
    "            elfcar = d2 / 'ELFCAR.relax2.gz'\n",
    "                \n",
    "            try:\n",
    "                def file_helper():\n",
    "                    nonlocal elfcar\n",
    "                    formula = Structure.from_file(poscar).composition.reduced_formula\n",
    "                    elfcar = Elfcar.from_file(elfcar)\n",
    "                    if formula in elfcar_dict:\n",
    "                        print('Duplicate formula {} found'.format(formula))\n",
    "                    elfcar_dict.update({formula:elfcar})\n",
    "                    # Write a file for reading in VESTA\n",
    "                    elfcar.write_file(Path(elf_target_dir,formula+'.vasp'))\n",
    "                    #chgcar.write_file(Path(chg_target_dir,formula+'.vasp'))\n",
    "                    print(formula)\n",
    "                file_helper()\n",
    "            except FileNotFoundError as e:\n",
    "                poscar = d2 / 'POSCAR.relax3.gz'\n",
    "                elfcar = d2 / 'ELFCAR.relax3.gz'\n",
    "                file_helper()\n",
    "            except Exception as exc:\n",
    "                print({exc})\n",
    "                continue\n",
    "        \n",
    "    print('Traversed {} directories'.format(count))\n",
    "    return elfcar_dict\n",
    "\n",
    "elfcar_dict = make_elfcar_dict()\n",
    "#elfcar_dict = generate_file(os.path.join('3_data analysis','2_pipeline','elfcar_dict.json'),make_elfcar_dict)"
   ]
  },
  {
   "cell_type": "code",
   "execution_count": 8,
   "metadata": {},
   "outputs": [
    {
     "data": {
      "text/plain": [
       "{'TiC': <pymatgen.io.vasp.outputs.Elfcar at 0x7fc9a258ed30>,\n",
       " 'IrO2': <pymatgen.io.vasp.outputs.Elfcar at 0x7fc9a2531340>,\n",
       " 'TaN': <pymatgen.io.vasp.outputs.Elfcar at 0x7fc9a258efa0>,\n",
       " 'TiO2': <pymatgen.io.vasp.outputs.Elfcar at 0x7fc9a25791c0>,\n",
       " 'MgSO4': <pymatgen.io.vasp.outputs.Elfcar at 0x7fc9a258a490>,\n",
       " 'MnBr2': <pymatgen.io.vasp.outputs.Elfcar at 0x7fc9a25792e0>,\n",
       " 'Mn3O4': <pymatgen.io.vasp.outputs.Elfcar at 0x7fc9a232efa0>,\n",
       " 'Pt5Se4': <pymatgen.io.vasp.outputs.Elfcar at 0x7fc9a2579490>,\n",
       " 'K2Si4O9': <pymatgen.io.vasp.outputs.Elfcar at 0x7fc9a2452f40>,\n",
       " 'Al2S3': <pymatgen.io.vasp.outputs.Elfcar at 0x7fc9a2452b80>,\n",
       " 'Fe2O3': <pymatgen.io.vasp.outputs.Elfcar at 0x7fc9a2496310>,\n",
       " 'Eu2O3': <pymatgen.io.vasp.outputs.Elfcar at 0x7fc9a24b4130>}"
      ]
     },
     "execution_count": 8,
     "metadata": {},
     "output_type": "execute_result"
    }
   ],
   "source": [
    "elfcar_dict"
   ]
  }
 ],
 "metadata": {
  "kernelspec": {
   "display_name": "Python (conda: scan)",
   "language": "python",
   "name": "scan"
  },
  "language_info": {
   "codemirror_mode": {
    "name": "ipython",
    "version": 3
   },
   "file_extension": ".py",
   "mimetype": "text/x-python",
   "name": "python",
   "nbconvert_exporter": "python",
   "pygments_lexer": "ipython3",
   "version": "3.8.2"
  }
 },
 "nbformat": 4,
 "nbformat_minor": 4
}
