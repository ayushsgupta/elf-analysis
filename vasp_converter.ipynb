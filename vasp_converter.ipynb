{
 "cells": [
  {
   "cell_type": "markdown",
   "metadata": {},
   "source": [
    "## ELFCAR / iso-orbital indicator ($\\alpha$) analysis"
   ]
  },
  {
   "cell_type": "markdown",
   "metadata": {},
   "source": [
    "Calculate the alpha value from the ELFCAR, and write to a format that can be read by VESTA"
   ]
  },
  {
   "cell_type": "markdown",
   "metadata": {},
   "source": [
    "---\n",
    "## Header"
   ]
  },
  {
   "cell_type": "markdown",
   "metadata": {},
   "source": [
    "#### Global variables"
   ]
  },
  {
   "cell_type": "code",
   "execution_count": 1,
   "metadata": {},
   "outputs": [],
   "source": [
    "PROJECT = 'SCAN project'"
   ]
  },
  {
   "cell_type": "markdown",
   "metadata": {},
   "source": [
    "#### Imports"
   ]
  },
  {
   "cell_type": "code",
   "execution_count": 2,
   "metadata": {},
   "outputs": [],
   "source": [
    "import os\n",
    "from pathlib import Path\n",
    "import re\n",
    "import numpy as np\n",
    "#import xlrd\n",
    "from matplotlib import pyplot as plt\n",
    "import plotly.graph_objects as go"
   ]
  },
  {
   "cell_type": "code",
   "execution_count": 3,
   "metadata": {},
   "outputs": [],
   "source": [
    "from pymatgen.ext.matproj import MPRester, MPRestError\n",
    "from monty.serialization import loadfn, dumpfn\n",
    "from pymatgen import Structure, Composition\n",
    "from pymatgen.analysis.reaction_calculator import ComputedEntry, ComputedReaction\n",
    "from pymatgen.util.plotting import pretty_plot, periodic_table_heatmap\n",
    "from pymatgen.core import periodic_table\n",
    "from pymatgen.io.vasp.outputs import Elfcar, Chgcar, Poscar, VolumetricData\n",
    "\n",
    "from scipy.stats import linregress\n",
    "from scipy.interpolate import RegularGridInterpolator\n",
    "#from adjustText import adjust_text\n",
    "from sklearn.metrics import max_error, mean_absolute_error, mean_squared_error"
   ]
  },
  {
   "cell_type": "markdown",
   "metadata": {},
   "source": [
    "#### Settings and utility functions"
   ]
  },
  {
   "cell_type": "code",
   "execution_count": 4,
   "metadata": {},
   "outputs": [],
   "source": [
    "%load_ext autoreload\n",
    "%autoreload 2"
   ]
  },
  {
   "cell_type": "markdown",
   "metadata": {},
   "source": [
    "#### Set Working Directory"
   ]
  },
  {
   "cell_type": "code",
   "execution_count": 5,
   "metadata": {},
   "outputs": [],
   "source": [
    "workdir = Path(re.sub(\"(?<={})[\\w\\W]*\".format(PROJECT), \"\", str(Path.cwd())))\n",
    "os.chdir(workdir)\n",
    "\n",
    "data_dir = workdir / 'SCAN_elfcar_v1'\n",
    "#pipeline_dir = workdir / 'analysis' / 'pipeline'\n",
    "output_dir = workdir / 'vasp_files'"
   ]
  },
  {
   "cell_type": "code",
   "execution_count": 6,
   "metadata": {},
   "outputs": [
    {
     "name": "stdout",
     "output_type": "stream",
     "text": [
      "/mnt/c/Users/Ayush/Desktop/elf-analysis\n",
      "/mnt/c/Users/Ayush/Desktop/elf-analysis/SCAN_elfcar_v1\n",
      "/mnt/c/Users/Ayush/Desktop/elf-analysis/vasp_files\n"
     ]
    }
   ],
   "source": [
    "print(workdir)\n",
    "print(data_dir)\n",
    "#print(pipeline_dir)\n",
    "print(output_dir)"
   ]
  },
  {
   "cell_type": "markdown",
   "metadata": {},
   "source": [
    "---\n",
    "## Main Code"
   ]
  },
  {
   "cell_type": "markdown",
   "metadata": {},
   "source": [
    "### Create a simple dict containing formula: pymatgen ELFCAR object and write files that VESTA can read"
   ]
  },
  {
   "cell_type": "code",
   "execution_count": 7,
   "metadata": {},
   "outputs": [
    {
     "name": "stdout",
     "output_type": "stream",
     "text": [
      "Destination: /mnt/c/Users/Ayush/Desktop/elf-analysis/vasp_files\n",
      "Compounds:\n",
      "TiC\n",
      "IrO2\n",
      "TaN\n",
      "TiO2\n",
      "MgSO4\n",
      "MnBr2\n",
      "Mn3O4\n",
      "Pt5Se4\n",
      "K2Si4O9\n",
      "Al2S3\n",
      "Fe2O3\n",
      "Eu2O3\n",
      "Traversed 16 directories\n"
     ]
    }
   ],
   "source": [
    "def make_elfcar_dict(): \n",
    "    elfcar_dict = {}\n",
    "    #target_dir = output_dir / 'iso-orbital-alpha'\n",
    "    elf_target_dir = output_dir / 'elf'\n",
    "    print('Destination:', output_dir)\n",
    "    print('Compounds:')\n",
    "    count = 0\n",
    "    # loop through the directories containing the calcs\n",
    "    block_dir = data_dir\n",
    "    for d1 in block_dir.iterdir():\n",
    "        # loop through the \"launcher\" dirs in each \"block\"\n",
    "        if '.DS_Store' in str(d1):\n",
    "            continue\n",
    "        for d2 in d1.iterdir():\n",
    "            count+=1\n",
    "            if '.DS_Store' in str(d2):\n",
    "                continue\n",
    "                \n",
    "            poscar = d2 / 'POSCAR.relax2.gz'\n",
    "            elfcar = d2 / 'ELFCAR.relax2.gz'\n",
    "                \n",
    "            try:\n",
    "                def file_helper():\n",
    "                    nonlocal elfcar\n",
    "                    formula = Structure.from_file(poscar).composition.reduced_formula\n",
    "                    elfcar = Elfcar.from_file(elfcar)\n",
    "                    if formula in elfcar_dict:\n",
    "                        print('Duplicate formula {} found'.format(formula))\n",
    "                    elfcar_dict.update({formula:elfcar})\n",
    "                    # Write a file for reading in VESTA\n",
    "                    elfcar.write_file(Path(elf_target_dir,formula+'.vasp'))\n",
    "                    #chgcar.write_file(Path(chg_target_dir,formula+'.vasp'))\n",
    "                    print(formula)\n",
    "                file_helper()\n",
    "            except FileNotFoundError as e:\n",
    "                poscar = d2 / 'POSCAR.relax3.gz'\n",
    "                elfcar = d2 / 'ELFCAR.relax3.gz'\n",
    "                file_helper()\n",
    "            except Exception as exc:\n",
    "                print({exc})\n",
    "                continue\n",
    "        \n",
    "    print('Traversed {} directories'.format(count))\n",
    "    return elfcar_dict\n",
    "\n",
    "elfcar_dict = make_elfcar_dict()\n",
    "#elfcar_dict = generate_file(os.path.join('3_data analysis','2_pipeline','elfcar_dict.json'),make_elfcar_dict)"
   ]
  },
  {
   "cell_type": "code",
   "execution_count": 8,
   "metadata": {},
   "outputs": [
    {
     "data": {
      "text/plain": [
       "{'TiC': <pymatgen.io.vasp.outputs.Elfcar at 0x7f1e52a924f0>,\n",
       " 'IrO2': <pymatgen.io.vasp.outputs.Elfcar at 0x7f1e52a924c0>,\n",
       " 'TaN': <pymatgen.io.vasp.outputs.Elfcar at 0x7f1e52aa85e0>,\n",
       " 'TiO2': <pymatgen.io.vasp.outputs.Elfcar at 0x7f1e52aa8490>,\n",
       " 'MgSO4': <pymatgen.io.vasp.outputs.Elfcar at 0x7f1e52d27ee0>,\n",
       " 'MnBr2': <pymatgen.io.vasp.outputs.Elfcar at 0x7f1e5296de80>,\n",
       " 'Mn3O4': <pymatgen.io.vasp.outputs.Elfcar at 0x7f1e528e49d0>,\n",
       " 'Pt5Se4': <pymatgen.io.vasp.outputs.Elfcar at 0x7f1e52a925b0>,\n",
       " 'K2Si4O9': <pymatgen.io.vasp.outputs.Elfcar at 0x7f1e528e4dc0>,\n",
       " 'Al2S3': <pymatgen.io.vasp.outputs.Elfcar at 0x7f1e52ab2d60>,\n",
       " 'Fe2O3': <pymatgen.io.vasp.outputs.Elfcar at 0x7f1e52ab2e80>,\n",
       " 'Eu2O3': <pymatgen.io.vasp.outputs.Elfcar at 0x7f1e528f6760>}"
      ]
     },
     "execution_count": 8,
     "metadata": {},
     "output_type": "execute_result"
    }
   ],
   "source": [
    "elfcar_dict"
   ]
  },
  {
   "cell_type": "code",
   "execution_count": 11,
   "metadata": {},
   "outputs": [
    {
     "ename": "NotImplementedError",
     "evalue": "Unable to automatically determine as_dict format from class. MSONAble requires all args to be present as either self.argname or self._argname, and kwargs to be present undera self.kwargs variable to automatically determine the dict format. Alternatively, you can implement both as_dict and from_dict.",
     "output_type": "error",
     "traceback": [
      "\u001b[0;31m---------------------------------------------------------------------------\u001b[0m",
      "\u001b[0;31mAttributeError\u001b[0m                            Traceback (most recent call last)",
      "\u001b[0;32m~/miniconda3/envs/scan/lib/python3.8/site-packages/monty/json.py\u001b[0m in \u001b[0;36mas_dict\u001b[0;34m(self)\u001b[0m\n\u001b[1;32m    136\u001b[0m                 \u001b[0;32mtry\u001b[0m\u001b[0;34m:\u001b[0m\u001b[0;34m\u001b[0m\u001b[0;34m\u001b[0m\u001b[0m\n\u001b[0;32m--> 137\u001b[0;31m                     \u001b[0ma\u001b[0m \u001b[0;34m=\u001b[0m \u001b[0mself\u001b[0m\u001b[0;34m.\u001b[0m\u001b[0m__getattribute__\u001b[0m\u001b[0;34m(\u001b[0m\u001b[0mc\u001b[0m\u001b[0;34m)\u001b[0m\u001b[0;34m\u001b[0m\u001b[0;34m\u001b[0m\u001b[0m\n\u001b[0m\u001b[1;32m    138\u001b[0m                 \u001b[0;32mexcept\u001b[0m \u001b[0mAttributeError\u001b[0m\u001b[0;34m:\u001b[0m\u001b[0;34m\u001b[0m\u001b[0;34m\u001b[0m\u001b[0m\n",
      "\u001b[0;31mAttributeError\u001b[0m: 'Elfcar' object has no attribute 'poscar'",
      "\nDuring handling of the above exception, another exception occurred:\n",
      "\u001b[0;31mAttributeError\u001b[0m                            Traceback (most recent call last)",
      "\u001b[0;32m~/miniconda3/envs/scan/lib/python3.8/site-packages/monty/json.py\u001b[0m in \u001b[0;36mas_dict\u001b[0;34m(self)\u001b[0m\n\u001b[1;32m    139\u001b[0m                     \u001b[0;32mtry\u001b[0m\u001b[0;34m:\u001b[0m\u001b[0;34m\u001b[0m\u001b[0;34m\u001b[0m\u001b[0m\n\u001b[0;32m--> 140\u001b[0;31m                         \u001b[0ma\u001b[0m \u001b[0;34m=\u001b[0m \u001b[0mself\u001b[0m\u001b[0;34m.\u001b[0m\u001b[0m__getattribute__\u001b[0m\u001b[0;34m(\u001b[0m\u001b[0;34m\"_\"\u001b[0m \u001b[0;34m+\u001b[0m \u001b[0mc\u001b[0m\u001b[0;34m)\u001b[0m\u001b[0;34m\u001b[0m\u001b[0;34m\u001b[0m\u001b[0m\n\u001b[0m\u001b[1;32m    141\u001b[0m                     \u001b[0;32mexcept\u001b[0m \u001b[0mAttributeError\u001b[0m\u001b[0;34m:\u001b[0m\u001b[0;34m\u001b[0m\u001b[0;34m\u001b[0m\u001b[0m\n",
      "\u001b[0;31mAttributeError\u001b[0m: 'Elfcar' object has no attribute '_poscar'",
      "\nDuring handling of the above exception, another exception occurred:\n",
      "\u001b[0;31mNotImplementedError\u001b[0m                       Traceback (most recent call last)",
      "\u001b[0;32m<ipython-input-11-2d871576c632>\u001b[0m in \u001b[0;36m<module>\u001b[0;34m\u001b[0m\n\u001b[0;32m----> 1\u001b[0;31m \u001b[0melfcar_dict\u001b[0m\u001b[0;34m[\u001b[0m\u001b[0;34m'TiC'\u001b[0m\u001b[0;34m]\u001b[0m\u001b[0;34m.\u001b[0m\u001b[0mas_dict\u001b[0m\u001b[0;34m(\u001b[0m\u001b[0;34m)\u001b[0m\u001b[0;34m\u001b[0m\u001b[0;34m\u001b[0m\u001b[0m\n\u001b[0m",
      "\u001b[0;32m~/miniconda3/envs/scan/lib/python3.8/site-packages/monty/json.py\u001b[0m in \u001b[0;36mas_dict\u001b[0;34m(self)\u001b[0m\n\u001b[1;32m    140\u001b[0m                         \u001b[0ma\u001b[0m \u001b[0;34m=\u001b[0m \u001b[0mself\u001b[0m\u001b[0;34m.\u001b[0m\u001b[0m__getattribute__\u001b[0m\u001b[0;34m(\u001b[0m\u001b[0;34m\"_\"\u001b[0m \u001b[0;34m+\u001b[0m \u001b[0mc\u001b[0m\u001b[0;34m)\u001b[0m\u001b[0;34m\u001b[0m\u001b[0;34m\u001b[0m\u001b[0m\n\u001b[1;32m    141\u001b[0m                     \u001b[0;32mexcept\u001b[0m \u001b[0mAttributeError\u001b[0m\u001b[0;34m:\u001b[0m\u001b[0;34m\u001b[0m\u001b[0;34m\u001b[0m\u001b[0m\n\u001b[0;32m--> 142\u001b[0;31m                         raise NotImplementedError(\n\u001b[0m\u001b[1;32m    143\u001b[0m                             \u001b[0;34m\"Unable to automatically determine as_dict \"\u001b[0m\u001b[0;34m\u001b[0m\u001b[0;34m\u001b[0m\u001b[0m\n\u001b[1;32m    144\u001b[0m                             \u001b[0;34m\"format from class. MSONAble requires all \"\u001b[0m\u001b[0;34m\u001b[0m\u001b[0;34m\u001b[0m\u001b[0m\n",
      "\u001b[0;31mNotImplementedError\u001b[0m: Unable to automatically determine as_dict format from class. MSONAble requires all args to be present as either self.argname or self._argname, and kwargs to be present undera self.kwargs variable to automatically determine the dict format. Alternatively, you can implement both as_dict and from_dict."
     ]
    }
   ],
   "source": [
    "elfcar_dict['TiC'].as_dict()"
   ]
  },
  {
   "cell_type": "code",
   "execution_count": null,
   "metadata": {},
   "outputs": [],
   "source": []
  }
 ],
 "metadata": {
  "kernelspec": {
   "display_name": "Python (conda: scan)",
   "language": "python",
   "name": "scan"
  },
  "language_info": {
   "codemirror_mode": {
    "name": "ipython",
    "version": 3
   },
   "file_extension": ".py",
   "mimetype": "text/x-python",
   "name": "python",
   "nbconvert_exporter": "python",
   "pygments_lexer": "ipython3",
   "version": "3.8.2"
  }
 },
 "nbformat": 4,
 "nbformat_minor": 4
}
